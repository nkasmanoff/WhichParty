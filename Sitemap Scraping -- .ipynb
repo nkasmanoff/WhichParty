{
 "cells": [
  {
   "cell_type": "markdown",
   "metadata": {},
   "source": [
    "Republican Views dot com seems like a great source for this information, so I'll try scraping the sitemap!"
   ]
  },
  {
   "cell_type": "code",
   "execution_count": 1,
   "metadata": {},
   "outputs": [
    {
     "name": "stdout",
     "output_type": "stream",
     "text": [
      "Populating the interactive namespace from numpy and matplotlib\n",
      "[nltk_data] Downloading package punkt to\n",
      "[nltk_data]     /Users/noahkasmanoff/nltk_data...\n",
      "[nltk_data]   Package punkt is already up-to-date!\n",
      "[nltk_data] Downloading package stopwords to\n",
      "[nltk_data]     /Users/noahkasmanoff/nltk_data...\n",
      "[nltk_data]   Package stopwords is already up-to-date!\n"
     ]
    },
    {
     "data": {
      "text/plain": [
       "True"
      ]
     },
     "execution_count": 1,
     "metadata": {},
     "output_type": "execute_result"
    }
   ],
   "source": [
    "#import dependencies \n",
    "from urllib.request import urlopen\n",
    "from bs4 import BeautifulSoup\n",
    "import re\n",
    "import codecs\n",
    "import nltk\n",
    "import numpy as np\n",
    "import pandas as pd\n",
    "%pylab inline\n",
    "nltk.download(\"punkt\")\n",
    "nltk.download(\"stopwords\")"
   ]
  },
  {
   "cell_type": "code",
   "execution_count": 2,
   "metadata": {
    "collapsed": true
   },
   "outputs": [],
   "source": [
    "#view-source:https://www.republicanviews.org/sitemap.xml\n",
    "        \n",
    "        \n",
    "url = \"https://www.republicanviews.org/sitemap.xml\"\n",
    "client = urlopen(url)\n",
    "page_html = client.read()\n",
    "page_soup = BeautifulSoup(page_html,'html.parser')\n"
   ]
  },
  {
   "cell_type": "code",
   "execution_count": 153,
   "metadata": {},
   "outputs": [
    {
     "name": "stdout",
     "output_type": "stream",
     "text": [
      "len of dem corpus:  0\n",
      "len of dem corpus:  1\n",
      "len of dem corpus:  2\n",
      "len of dem corpus:  3\n",
      "len of dem corpus:  4\n",
      "len of dem corpus:  5\n",
      "len of dem corpus:  6\n",
      "len of dem corpus:  7\n",
      "len of dem corpus:  8\n",
      "len of dem corpus:  9\n",
      "len of dem corpus:  10\n",
      "len of dem corpus:  11\n",
      "len of dem corpus:  12\n",
      "len of dem corpus:  13\n"
     ]
    }
   ],
   "source": [
    "dem_urls = [\"https://www.republicanviews.org/democratic-views-on-military-spending/\",\n",
    "       \"https://www.republicanviews.org/democratic-views-on-gay-marriage/\",\n",
    "       \"https://www.republicanviews.org/democratic-party-beliefs/\",\n",
    "       \"https://www.republicanviews.org/democratic-views-on-planned-parenthood/\",\n",
    "       \"https://www.republicanviews.org/democratic-views-on-foreign-policy/\",\n",
    "       \"https://www.republicanviews.org/democratic-views-on-illegal-immigration/\",\n",
    "       \"https://www.republicanviews.org/democratic-views-on-banking-regulation/\",\n",
    "       \"https://www.republicanviews.org/democratic-views-on-crime/\",\n",
    "       \"https://www.republicanviews.org/democratic-views-on-the-u-s-embassy-in-jerusalem/\",\n",
    "       \"https://www.republicanviews.org/democratic-views-on-trade/\",\n",
    "       \"https://www.republicanviews.org/democratic-views-on-energy/\",\n",
    "       \"https://www.republicanviews.org/democratic-views-on-national-security/\",\n",
    "       \"https://www.republicanviews.org/democratic-views-on-the-military/\"]\n",
    "\n",
    "dem_corpus = []\n",
    "print(\"len of dem corpus: \", len(dem_corpus))\n",
    "\n",
    "for url in dem_urls:\n",
    "    client = urlopen(url)\n",
    "    page_html = client.read()\n",
    "    page_soup = BeautifulSoup(page_html,'html.parser')\n",
    "    tag = page_soup.findAll('article')[0]  #that's it. \n",
    "    dem_corpus.append(tag.text)\n",
    "    print(\"len of dem corpus: \", len(dem_corpus))"
   ]
  },
  {
   "cell_type": "code",
   "execution_count": null,
   "metadata": {
    "collapsed": true
   },
   "outputs": [],
   "source": []
  },
  {
   "cell_type": "code",
   "execution_count": 123,
   "metadata": {
    "collapsed": true
   },
   "outputs": [],
   "source": [
    "url = \"https://www.republicanviews.org/republican-views-on-education/\"\n",
    "\n",
    "client = urlopen(url)\n",
    "page_html = client.read()\n",
    "page_soup = BeautifulSoup(page_html,'html.parser')\n"
   ]
  },
  {
   "cell_type": "code",
   "execution_count": 142,
   "metadata": {
    "collapsed": true
   },
   "outputs": [],
   "source": [
    "page_arr = page_soup.text.splitlines()"
   ]
  },
  {
   "cell_type": "code",
   "execution_count": 152,
   "metadata": {},
   "outputs": [
    {
     "data": {
      "text/plain": [
       "'Republican Views on Education\\nApril 3, 2014 By RepublicanViews.org \\n\\n\\n\\n\\n\\n\\r\\n(adsbygoogle = window.adsbygoogle || []).push({});\\r\\n\\n\\nRepublican views on education involve a variety of overarching ideas. First, republicans believe in a restructuring of higher education, which would leave more students equipped for their desired fields and less working minimum wage jobs that are irrelevant to their education. Next, they believe in limiting the federal government in education. This includes getting rid of federal student loans, and having only private loans. Republicans also support school choice and home schooling programs. Overall, Republicans believe strongly in an educational system that will provide higher education to those whose achievements deserve it, and that will give students the environment they want and need to succeed both in and beyond higher education.\\nRepublicans also support initiatives that increase benefits to students who are taking more difficult courses, form partnerships with colleges and universities in an effort to improve science and math programs, and attract math, science, and engineering students to attend lower-income schools. Republicans support abstinence education when it comes to sex-education, believing this is the only sure way of preventing unwanted pregnancies and sexually transmitted diseases. They believe all family planning education programs should be replaced with abstinence programs.\\nRepublicans also believe in an “English First” approach to education, believing programs that divide students whose first language is not English prevents them from becoming accustomed to mainstream American classrooms and culture, and therefore limits their ability to advance in society. Most of all, republicans believe that a students educational opportunities need to depend on their talent and motivation as a student, and not where they live or their income level.\\nRestructuring Higher Education\\nThe 2012 Republican Party Platform states that republicans support getting “back to the basics” of education, and better preparing students to do what it is they are seeking a career in. At this time, 50% of recent college graduates were either unemployed, or working jobs that were not in their field and for which their educations had provided them no training. The party believes that this signifies that our current higher educational system is in great need of reform, as it is not providing students with the opportunities they are pursuing. Republicans believe that expanding community college programs, technical institutions, private training schools, online universities, life-long learning, and work-based learning in the private sector, to create competition for four-year schools, is a good way to not only make worthwhile education more accessible now, but to motivate four-year schools to match these alternatives’ costs and levels of job-preparedness. They also believe that public policy should address these alternatives, and both support them and make them accessible to all.\\nAnother initiative that republicans support to better higher education is to increase access to higher education savings accounts. This will make it easier for any child to attend a higher education program, whether they choose a four-year school or an alternative program.\\nRepublicans recognize that many higher education problems arise from poor preparation at the lower educational levels, and therefore support state-led initiatives to improve K-12 schooling.\\nFederal Government in Education\\nThe Republican Party believes in doing away entirely with federal loans. College tuition, and its consequential debt, is rising uncontrollably. At this point, it is rising far above the rate of inflation. College debt in America, as of 2012, had exceeded the amount of credit card debt. Republicans believe federal loans exacerbate this problem by their lack of transparency, and the fact that they are often more expensive than private loans. For these reasons, republicans believe that the federal government should no longer issue student loans. Greater private sector participation in loans would drive tuition costs down. The party believes that the federal government should, however, serve as an insurance guarantor for private sector loans.\\nAside from limiting its role in loans, republicans also seek to further limit the federal government’s role in education. In fact, there are some Republicans who believe in doing away with the Department of Education entirely. The Republican Party prerogatives on reducing federal involvement in education were outlined in a set of education reforms proposed by George Bush in 2000. Republicans proposed to shrink federal programs into five grants, allow federal money to be used at the school of a child’s choice, expand school choice by increasing the number of charter schools available, expand education savings accounts, let children in dangerous schools transfer to safer schools which will prosecute offenders, and ensure that all children learn to read by reforming Head Start, as well as by facilitating state reading initiatives. These efforts, republicans believe, will put children’s education less into the hands of the government, and more into the hands of parents and teachers, who have a better first-hand view of what is best for each individual child. They do not believe in a one-size-fits-all approach to education, but rather an approach that is personalized by those closest to the child for the child.\\nThe Republican Party disagrees with an approach to education reforms that involves simply throwing money at the problem. The United States spends an average of $10,000 a year per pupil in public schools, which totals about $550 billion. Obviously funding cannot fix the problems in our educational system. Throwing money at the problem will not work. What does work, republicans believe, is accountability on the part of administrators, parents, and teachers (through merit pay for teachers, which increases both motivation and accountability to do a good job), programs that develop the character and financial literacy of students, rigorous assessments of students’ abilities in fundamental areas of learning, and schools that have the flexibility and freedom to adapt to the needs of their students. Focusing on STEM (Science, Technology, Engineering, and Math) subjects, and proper implementation of technology in the classroom. They believe that educational reforms at the state level tend to be far more based on proven success than those at the federal level, and therefore support these initiatives over federal reform. They believe that Republican governors have led the country’s education initiatives over the last few years, and applaud their efforts, as well as encourage others to follow them.\\nHome Schooling and School Choice\\nRepublicans support school-choice initiatives, because they give parents more control over their children’s education. For the same reason, they support home schooling. Support of school choice also includes support for learning options such as same-sex schools, full day school hours, and year-round schools, charter schools, and virtual schools. Giving these options at a K-12 level allows a child to get the best education for them, and will inevitably increase their chances of success in higher education.\\nRepublicans are adamant supporters of the enforcement of laws designed to protect family rights in education, as well as privacy in education.\\nRepublicans also support voluntary prayer in public schools, and opposes the Supreme Court’s ruling against it. There is republican legislation in place that guarantees equal access to school facilities by religious groups, and the party will work to guarantee that it is enforced.\\nNo Child Left Behind\\nPerhaps one of the best known educational reforms led by a republican is the No Child Left Behind Act of 2001, enacted by President George W. Bush. It supported standards-based educational reform, setting measurable goals and higher standards for schools to help improve educational outcomes for individual students. It required states to develop assessments for certain skills, as a way to measure school’s progress each year. In order to receive federal funding, a state must give students in select grades these assessments. Each state was left to set its own achievement standard, one was not set at a federal level. In opposition to general republican views, the act increased federal involvement in schools, as the annual testing, annual academic progress, report cards, teacher qualifications, and funding changes all now had involvement at the federal level. The Secretary of Education had the authority to waive various provisions of the No Child Left Behind Act, but it was the perception of many that Secretary of Education Arne Duncan was using this as a tool to force states to adopt the Obama administration’s agenda for education. This will hopefully be ended by the Student Success Act, which cut out many of the provisions states were seeking to have waived.\\nStudent Success Act\\nIn July of 2013, the Student Success Act was passed as a revamp of the No Child Left Behind Act. It required states collecting federal funds to regularly assess students, and report results. It contained a section that prohibited federal officials from mandating that states adopt the Common Core Curriculum, and included a section to allow Title I funds for low income students to follow them to the public school of their choice. Overall, it consolidated or got rid of over 70 programs.\\nMitt Romney on Education\\nMitt Romney believes that the educational system, while fundamental to the American dream, has been hindered significantly by neglect from the federal government. He also stands behind the republican idea that federal loans are driving up the costs of higher education, and making it less accessible to Americans. He believes in widespread educational reform, and also in merit-based pay for teachers. He also wishes to see an expansion of parental involvement in the education system. He believes having smaller classroom sizes could also have a positive impact on education in general, at all levels.\\nAs a governor who had to enforce the first wave of No Child Left Behind, Romney supported the reforms the act brought. Many in his state opposed the testing requirements for graduation, but Romney enforced them despite the opposition. He believes it made a positive impact on his state’s education. Romney stated “With school choice, testing our kids, giving our best teachers opportunities for advancement, these kinds of principles drove our schools to be pretty successful. As a matter of fact, there are four measures on which the federal government looks at schools state by state, and my state’s number one of all 50 stays in all four of those measures, fourth-and-eighth-graders in English and math. Those principles, testing our kids, excellent curriculum, superb teachers, and school choice, those are the answers to help our schools.“\\nCitation & Sharing This Page:\\n\\nShare on Facebook\\nShare on Twitter\\nTo share and link to this page, just copy and paste the following into your document, text area, or website:\\n\\nRepublican Views on Education\\xa0– RepublicanViews.org\\nSources:\\n\\nRepublican Party on Education – On The Issues\\nWhat GOP platform says on education – The Washington Post\\nRepublican Education Platform 2012 Emphasizes School Choice, Teacher Accountability\\xa0– Huffington Post\\nHouse Republicans get education reform right – Daily Caller\\n\\nSimilar Posts:\\n\\nDemocratic Views on Education\\nRepublican Views on School Vouchers\\nLibertarian Views on Education\\nDifferences Between Democrats and Republicans\\nDemocratic Views on College Tuition\\nWho Is Betsy DeVos?\\nWhat Is A Republican? Republican Definition\\nCommon Core Explained\\nWhat You Need to Know About New York’s Free Tuition Law\\nDemocratic Party Beliefs\\n\\n\\n\\nFiled Under: Education, Republican Views Tagged With: education, republican views on education'"
      ]
     },
     "execution_count": 152,
     "metadata": {},
     "output_type": "execute_result"
    }
   ],
   "source": [
    "page_soup.findAll('article')[0].text  #that's it. "
   ]
  },
  {
   "cell_type": "code",
   "execution_count": null,
   "metadata": {
    "collapsed": true
   },
   "outputs": [],
   "source": []
  },
  {
   "cell_type": "code",
   "execution_count": 6,
   "metadata": {},
   "outputs": [
    {
     "ename": "SyntaxError",
     "evalue": "unexpected EOF while parsing (<ipython-input-6-6992d352d3db>, line 2)",
     "output_type": "error",
     "traceback": [
      "\u001b[0;36m  File \u001b[0;32m\"<ipython-input-6-6992d352d3db>\"\u001b[0;36m, line \u001b[0;32m2\u001b[0m\n\u001b[0;31m    if page_soup.text[i:i+4] == 'http':\u001b[0m\n\u001b[0m                                       ^\u001b[0m\n\u001b[0;31mSyntaxError\u001b[0m\u001b[0;31m:\u001b[0m unexpected EOF while parsing\n"
     ]
    }
   ],
   "source": [
    "for i, char in enumerate(page_soup.text):\n",
    "    if page_soup.text[i:i+4] == 'http':\n"
   ]
  },
  {
   "cell_type": "code",
   "execution_count": 7,
   "metadata": {},
   "outputs": [
    {
     "data": {
      "text/plain": [
       "'\\n\\n\\n\\n \\nhttp://www.republicanviews.org/\\n2014-03-27T00:18:27+00:00\\ndaily\\n1.0\\n\\n\\n\\n\\nhttp://www.republicanviews.org/republican-views-on-taxes/\\n2014-03-27T00:18:27+00:00\\nmonthly\\n0.2\\n\\n\\n\\nhttp://www.republicanviews.org/republican-views-on-gay-marriage/\\n2014-03-26T23:32:50+00:00\\nmonthly\\n0.2\\n\\n\\n\\nhttp://www.republicanviews.org/republican-views-on-immigration/\\n2014-03-26T23:25:23+00:00\\nmonthly\\n0.2\\n\\n\\n\\nhttp://www.republicanviews.org/republican-views-on-health-care/\\n2014-03-26T03:52:39+00:00\\nmonthly\\n0.2\\n\\n\\n\\nhttp://www.republicanviews.org/republican-views-on-abortion/\\n2014-03-26T03:48:11+00:00\\nmonthly\\n0.2\\n\\n\\nhttp://www.republicanviews.org/about/\\n2014-03-07T04:08:21+00:00\\nweekly\\n0.6\\n\\n\\n\\nhttp://www.republicanviews.org/taking-a-closer-look-at-boehners-immigration-plan/\\n2014-02-09T19:27:51+00:00\\nmonthly\\n0.2\\n\\n\\n\\nhttp://www.republicanviews.org/governor-cuomo-says-extreme-conservatives-are-not-welcome-in-new-york/\\n2014-02-09T19:27:51+00:00\\nmonthly\\n0.2\\n\\n\\n\\nhttp://www.republicanviews.org/science-supports-the-republican-position-on-abortion/\\n2014-02-09T19:27:51+00:00\\nmonthly\\n0.2\\n\\n\\n\\nhttp://www.republicanviews.org/can-the-republican-party-survive-its-current-divide/\\n2014-02-09T19:27:51+00:00\\nmonthly\\n0.2\\n\\n\\n\\nhttp://www.republicanviews.org/little-sisters-of-the-poor-case/\\n2014-02-09T19:27:51+00:00\\nmonthly\\n0.2\\n\\n\\n\\nhttp://www.republicanviews.org/what-will-obamacare-do-to-small-businesses/\\n2014-02-09T19:27:51+00:00\\nmonthly\\n0.2\\n\\n\\n\\nhttp://www.republicanviews.org/5-republican-blogs-that-every-conservative-needs-to-follow/\\n2014-02-09T19:26:14+00:00\\nmonthly\\n0.2\\n\\n\\n\\nhttp://www.republicanviews.org/fix-the-economy-a-cause-republicans-can-stand-together-on/\\n2014-02-09T18:54:40+00:00\\nmonthly\\n0.2\\n\\n\\n\\nhttp://www.republicanviews.org/minimum-wage-increases-good-for-employees-but-detrimental-to-employers/\\n2014-02-09T18:48:54+00:00\\nmonthly\\n0.2\\n\\n\\nhttp://www.republicanviews.org/links/\\n2014-02-06T16:37:11+00:00\\nweekly\\n0.6\\n\\n\\n\\nhttp://www.republicanviews.org/republican-views-on-gun-control/\\n2014-01-28T02:05:55+00:00\\nmonthly\\n0.2\\n\\n\\nhttp://www.republicanviews.org/write-for-us/\\n2014-01-26T21:55:57+00:00\\nweekly\\n0.6\\n\\n\\n\\nhttp://www.republicanviews.org/prediction-mitt-romney-runs-again/\\n2014-01-19T23:48:00+00:00\\nmonthly\\n0.7\\n\\n\\nhttp://www.republicanviews.org/contact/\\n2014-01-19T22:28:13+00:00\\nweekly\\n0.6\\n\\n\\nhttp://www.republicanviews.org/republican-views-and-beliefs/\\n2013-12-28T05:42:45+00:00\\nweekly\\n0.6\\n\\n\\n\\nhttp://www.republicanviews.org/republican-views-on-welfare/\\n2013-12-14T20:12:49+00:00\\nmonthly\\n0.2\\n\\n\\nhttp://www.republicanviews.org/blog/\\n2013-12-11T00:11:40+00:00\\nweekly\\n0.6\\n\\n\\n\\nhttp://www.republicanviews.org/republican-party-beliefs/\\n2013-12-07T03:35:48+00:00\\nmonthly\\n0.2\\n\\n\\n\\nhttp://www.republicanviews.org/is-the-healthcare-website-fixed-november-2013/\\n2013-12-03T02:21:20+00:00\\nmonthly\\n0.2\\n\\n\\n\\nhttp://www.republicanviews.org/what-ive-learned-from-double-down-part-1/\\n2013-11-24T20:05:43+00:00\\nmonthly\\n0.2\\n\\n\\nhttp://www.republicanviews.org/support/\\n2013-11-18T16:55:39+00:00\\nweekly\\n0.6\\n\\n\\nhttp://www.republicanviews.org/advertise/\\n2013-11-14T03:48:49+00:00\\nweekly\\n0.6\\n\\n\\nhttp://www.republicanviews.org/good-books/\\n2013-11-09T23:45:57+00:00\\nweekly\\n0.6\\n\\n\\n\\nhttp://www.republicanviews.org/differences-between-democrats-and-republicans/\\n2013-09-26T23:48:38+00:00\\nmonthly\\n0.2\\n\\n\\n\\nhttp://www.republicanviews.org/republican-views-on-energy/\\n2013-09-26T23:48:32+00:00\\nmonthly\\n0.2\\n\\n\\n\\nhttp://www.republicanviews.org/the-tea-party-movement/\\n2013-09-26T23:47:50+00:00\\nmonthly\\n0.2\\n\\n\\n\\nhttp://www.republicanviews.org/history-of-the-republican-party/\\n2013-09-26T23:47:44+00:00\\nmonthly\\n0.2\\n\\n\\n\\nhttp://www.republicanviews.org/famous-republicans/\\n2013-09-26T23:47:38+00:00\\nmonthly\\n0.2\\n\\n\\n\\nhttp://www.republicanviews.org/republican-presidents/\\n2013-09-26T23:47:18+00:00\\nmonthly\\n0.2\\n\\n\\n\\nhttp://www.republicanviews.org/republican-party-platform/\\n2013-09-26T23:46:50+00:00\\nmonthly\\n0.2\\n\\n\\n\\nhttp://www.republicanviews.org/republican-views-on-education/\\n2013-07-13T18:58:04+00:00\\nmonthly\\n0.2\\n\\n\\n\\nhttp://www.republicanviews.org/republican-views-on-social-security/\\n2013-07-13T18:56:43+00:00\\nmonthly\\n0.2\\n\\n\\n\\nhttp://www.republicanviews.org/republican-views-on-the-environment/\\n2013-07-13T18:56:25+00:00\\nmonthly\\n0.2\\n\\n\\n\\nhttp://www.republicanviews.org/republican-views-on-spending/\\n2013-07-13T18:55:52+00:00\\nmonthly\\n0.2\\n\\n\\nhttp://www.republicanviews.org/find-your-politicians/\\n2013-06-08T20:15:29+00:00\\nweekly\\n0.6\\n\\n\\n\\nhttp://www.republicanviews.org/what-is-the-gop-convention/\\n2013-04-08T00:40:40+00:00\\nmonthly\\n0.2\\n\\n\\n\\n\\n\\n\\n'"
      ]
     },
     "execution_count": 7,
     "metadata": {},
     "output_type": "execute_result"
    }
   ],
   "source": [
    "page_soup.text"
   ]
  },
  {
   "cell_type": "code",
   "execution_count": 24,
   "metadata": {
    "collapsed": true
   },
   "outputs": [],
   "source": [
    "sites = []\n",
    "for url in page_soup.findAll('url'):\n",
    "    website = url.text.split()[0]\n",
    "    sites.append(website)"
   ]
  },
  {
   "cell_type": "code",
   "execution_count": 56,
   "metadata": {},
   "outputs": [
    {
     "data": {
      "text/plain": [
       "10"
      ]
     },
     "execution_count": 56,
     "metadata": {},
     "output_type": "execute_result"
    }
   ],
   "source": [
    "len('democratic')"
   ]
  },
  {
   "cell_type": "markdown",
   "metadata": {
    "collapsed": true
   },
   "source": [
    "# One idea is to just inserting democrat instead of republican, I don't think the sitemap is aware of that but I am :)"
   ]
  },
  {
   "cell_type": "code",
   "execution_count": 122,
   "metadata": {},
   "outputs": [
    {
     "name": "stdout",
     "output_type": "stream",
     "text": [
      "http://www.republicanviews.org/republican-views-on-taxes/\n",
      "http://www.republicanviews.org/democratic/views-on-taxes/\n",
      "http://www.republicanviews.org/republican-views-on-gay-marriage/\n",
      "http://www.republicanviews.org/democratic/views-on-gay-marriage/\n",
      "http://www.republicanviews.org/republican-views-on-immigration/\n",
      "http://www.republicanviews.org/democratic/views-on-immigration/\n",
      "http://www.republicanviews.org/republican-views-on-health-care/\n",
      "http://www.republicanviews.org/democratic/views-on-health-care/\n",
      "http://www.republicanviews.org/republican-views-on-abortion/\n",
      "http://www.republicanviews.org/democratic/views-on-abortion/\n",
      "http://www.republicanviews.org/republican-views-on-gun-control/\n",
      "http://www.republicanviews.org/democratic/views-on-gun-control/\n",
      "http://www.republicanviews.org/republican-views-and-beliefs/\n",
      "http://www.republicanviews.org/democratic/views-and-beliefs/\n",
      "http://www.republicanviews.org/republican-views-on-welfare/\n",
      "http://www.republicanviews.org/democratic/views-on-welfare/\n",
      "http://www.republicanviews.org/republican-party-beliefs/\n",
      "http://www.republicanviews.org/democratic/party-beliefs/\n",
      "http://www.republicanviews.org/republican-views-on-energy/\n",
      "http://www.republicanviews.org/democratic/views-on-energy/\n",
      "http://www.republicanviews.org/republican-presidents/\n",
      "http://www.republicanviews.org/democratic/presidents/\n",
      "http://www.republicanviews.org/republican-party-platform/\n",
      "http://www.republicanviews.org/democratic/party-platform/\n",
      "http://www.republicanviews.org/republican-views-on-education/\n",
      "http://www.republicanviews.org/democratic/views-on-education/\n",
      "http://www.republicanviews.org/republican-views-on-social-security/\n",
      "http://www.republicanviews.org/democratic/views-on-social-security/\n",
      "http://www.republicanviews.org/republican-views-on-the-environment/\n",
      "http://www.republicanviews.org/democratic/views-on-the-environment/\n",
      "http://www.republicanviews.org/republican-views-on-spending/\n",
      "http://www.republicanviews.org/democratic/views-on-spending/\n"
     ]
    }
   ],
   "source": [
    "for site in sites:\n",
    "   # if (site.split('/')[3][0:10]) == 'republican':\n",
    "        #scrape this site. \n",
    "   # print(site)\n",
    "    if site[31:41] == 'republican':\n",
    "        #scape stuff\n",
    "       # site[31:41] = 'democratic'\n",
    "        print(site)\n",
    "        print(flip_party(site))\n",
    "        # print(site.spit(''))"
   ]
  },
  {
   "cell_type": "code",
   "execution_count": 84,
   "metadata": {
    "collapsed": true
   },
   "outputs": [],
   "source": [
    "site.split('-')[0].split('/')[-1] = 'democratic'"
   ]
  },
  {
   "cell_type": "code",
   "execution_count": 85,
   "metadata": {
    "collapsed": true
   },
   "outputs": [],
   "source": [
    "string = '/'.join(site) \n"
   ]
  },
  {
   "cell_type": "code",
   "execution_count": 86,
   "metadata": {},
   "outputs": [
    {
     "data": {
      "text/plain": [
       "'h/t/t/p/://///w/w/w/./r/e/p/u/b/l/i/c/a/n/v/i/e/w/s/./o/r/g///r/e/p/u/b/l/i/c/a/n/-/v/i/e/w/s/-/o/n/-/t/a/x/e/s//'"
      ]
     },
     "execution_count": 86,
     "metadata": {},
     "output_type": "execute_result"
    }
   ],
   "source": [
    "string"
   ]
  },
  {
   "cell_type": "code",
   "execution_count": 87,
   "metadata": {},
   "outputs": [
    {
     "data": {
      "text/plain": [
       "'http://www.republicanviews.org/republican-views-on-taxes/'"
      ]
     },
     "execution_count": 87,
     "metadata": {},
     "output_type": "execute_result"
    }
   ],
   "source": [
    "site"
   ]
  },
  {
   "cell_type": "code",
   "execution_count": 88,
   "metadata": {
    "collapsed": true
   },
   "outputs": [],
   "source": [
    "url_comps  = site.split('-')"
   ]
  },
  {
   "cell_type": "code",
   "execution_count": 90,
   "metadata": {
    "collapsed": true
   },
   "outputs": [],
   "source": [
    "url_comps\n",
    "partybranch = url_comps[0]"
   ]
  },
  {
   "cell_type": "code",
   "execution_count": 97,
   "metadata": {
    "collapsed": true
   },
   "outputs": [],
   "source": [
    "party = partybranch.split('/')"
   ]
  },
  {
   "cell_type": "code",
   "execution_count": 102,
   "metadata": {
    "collapsed": true
   },
   "outputs": [],
   "source": [
    "tree = '/'.join(party[0:-1])"
   ]
  },
  {
   "cell_type": "code",
   "execution_count": 100,
   "metadata": {},
   "outputs": [
    {
     "data": {
      "text/plain": [
       "['http:', '', 'www.republicanviews.org']"
      ]
     },
     "execution_count": 100,
     "metadata": {},
     "output_type": "execute_result"
    }
   ],
   "source": [
    "party[0:-1]"
   ]
  },
  {
   "cell_type": "code",
   "execution_count": 103,
   "metadata": {},
   "outputs": [
    {
     "data": {
      "text/plain": [
       "'http://www.republicanviews.org'"
      ]
     },
     "execution_count": 103,
     "metadata": {},
     "output_type": "execute_result"
    }
   ],
   "source": [
    "tree"
   ]
  },
  {
   "cell_type": "code",
   "execution_count": 106,
   "metadata": {
    "collapsed": true
   },
   "outputs": [],
   "source": [
    "party = party[-1]"
   ]
  },
  {
   "cell_type": "code",
   "execution_count": 108,
   "metadata": {},
   "outputs": [
    {
     "data": {
      "text/plain": [
       "'http://www.republicanviews.org'"
      ]
     },
     "execution_count": 108,
     "metadata": {},
     "output_type": "execute_result"
    }
   ],
   "source": [
    "switch = 'democratic'\n",
    "#now merge this back on. \n",
    "tree"
   ]
  },
  {
   "cell_type": "code",
   "execution_count": 109,
   "metadata": {},
   "outputs": [
    {
     "data": {
      "text/plain": [
       "'democratic'"
      ]
     },
     "execution_count": 109,
     "metadata": {},
     "output_type": "execute_result"
    }
   ],
   "source": [
    "switch"
   ]
  },
  {
   "cell_type": "code",
   "execution_count": 111,
   "metadata": {},
   "outputs": [
    {
     "data": {
      "text/plain": [
       "'http://www.republicanviews.org/republican'"
      ]
     },
     "execution_count": 111,
     "metadata": {},
     "output_type": "execute_result"
    }
   ],
   "source": [
    "partybranch"
   ]
  },
  {
   "cell_type": "code",
   "execution_count": 112,
   "metadata": {
    "collapsed": true
   },
   "outputs": [],
   "source": [
    "switchbranch = tree + '/' + switch"
   ]
  },
  {
   "cell_type": "code",
   "execution_count": 119,
   "metadata": {},
   "outputs": [
    {
     "data": {
      "text/plain": [
       "'http://www.republicanviews.org/democratic/views-on-taxes/'"
      ]
     },
     "execution_count": 119,
     "metadata": {},
     "output_type": "execute_result"
    }
   ],
   "source": [
    "switchbranch + '/' + issue"
   ]
  },
  {
   "cell_type": "code",
   "execution_count": 114,
   "metadata": {},
   "outputs": [
    {
     "data": {
      "text/plain": [
       "['http://www.republicanviews.org/republican', 'views', 'on', 'taxes/']"
      ]
     },
     "execution_count": 114,
     "metadata": {},
     "output_type": "execute_result"
    }
   ],
   "source": [
    "url_comps[]"
   ]
  },
  {
   "cell_type": "code",
   "execution_count": 118,
   "metadata": {
    "collapsed": true
   },
   "outputs": [],
   "source": [
    "issue = '-'.join(url_comps[1:])"
   ]
  },
  {
   "cell_type": "code",
   "execution_count": 120,
   "metadata": {
    "collapsed": true
   },
   "outputs": [],
   "source": [
    "def flip_party(url):\n",
    "    \"\"\"Republican views' sitemap provides a link the the republican perspective on every issue,\n",
    "    While the dem viewpoint is available on the site, it isn't on the sitemap so this helper function inserts the\n",
    "    proper sign. \n",
    "    \"\"\"\n",
    "    \n",
    "    url_comps  = site.split('-')\n",
    "    partybranch = url_comps[0]\n",
    "    party = partybranch.split('/')\n",
    "    party = party[-1]\n",
    "    switch = 'democratic'\n",
    "    switchbranch = tree + '/' + switch\n",
    "    issue = '-'.join(url_comps[1:])\n",
    "    newurl = switchbranch + '/' + issue\n",
    "    \n",
    "    return newurl"
   ]
  },
  {
   "cell_type": "code",
   "execution_count": 121,
   "metadata": {},
   "outputs": [
    {
     "data": {
      "text/plain": [
       "'http://www.republicanviews.org/democratic/views-on-taxes/'"
      ]
     },
     "execution_count": 121,
     "metadata": {},
     "output_type": "execute_result"
    }
   ],
   "source": [
    "flip_party(site)"
   ]
  },
  {
   "cell_type": "code",
   "execution_count": null,
   "metadata": {
    "collapsed": true
   },
   "outputs": [],
   "source": []
  }
 ],
 "metadata": {
  "kernelspec": {
   "display_name": "Python 3",
   "language": "python",
   "name": "python3"
  },
  "language_info": {
   "codemirror_mode": {
    "name": "ipython",
    "version": 3
   },
   "file_extension": ".py",
   "mimetype": "text/x-python",
   "name": "python",
   "nbconvert_exporter": "python",
   "pygments_lexer": "ipython3",
   "version": "3.6.1"
  }
 },
 "nbformat": 4,
 "nbformat_minor": 2
}
